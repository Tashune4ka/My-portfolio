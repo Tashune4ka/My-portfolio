{
 "cells": [
  {
   "cell_type": "markdown",
   "metadata": {},
   "source": [
    "Task 1: Favourite meal\n",
    "\n",
    "Write a program that allows user to enter their favourite starter, main course, dessert and drink.\n",
    "Concatenate these and output a message which says – “Your favourite meal is ………with a glass of….”"
   ]
  },
  {
   "cell_type": "code",
   "execution_count": 2,
   "metadata": {},
   "outputs": [
    {
     "name": "stdout",
     "output_type": "stream",
     "text": [
      "Your favourite meal is soup, pasta, cake with a glass of wine.\n"
     ]
    }
   ],
   "source": [
    "# Create 4 variables:\n",
    "starter = input(\"What is your favourite stater? \")\n",
    "main = input(\"What is your favourite main course? \")\n",
    "dessert = input(\"What is your favourite dessert? \")\n",
    "drink = input(\"What is your favourite drink? \")\n",
    "\n",
    "# Concatenate these into the output message using + to combine the strings\n",
    "print(\"Your favourite meal is \" + starter + \", \" + main + \", \" + dessert, \"with a glass of \" + drink + \".\")"
   ]
  },
  {
   "cell_type": "markdown",
   "metadata": {},
   "source": [
    "Task 2: Calculations\n",
    "\n",
    "Create a few programs to complete the following calculations:\n",
    "1.Takes two numbers from user and outputs a subtraction\n",
    "2.Takes two numbers from user and outputs a multiplication\n",
    "3.Takes two numbers from user and outputs a division"
   ]
  },
  {
   "cell_type": "code",
   "execution_count": 3,
   "metadata": {},
   "outputs": [
    {
     "name": "stdout",
     "output_type": "stream",
     "text": [
      "Substraction: 15 - 6 = 9\n",
      "Multiplication: 15 * 6 = 90\n",
      "Division: 15 / 6 = 2.5\n"
     ]
    }
   ],
   "source": [
    "# Create 2 variables which enable a user to input a number.\n",
    "var1 = input(\"Input a variable 1 \")\n",
    "var2 = input(\"Input a variable 2 \")\n",
    "\n",
    "# subtraction\n",
    "print(\"Substraction: \" + var1 + \" - \" + var2 + \" = \" + str(int(var1) - int(var2)))\n",
    "\n",
    "# multiplication\n",
    "print(\"Multiplication: \" + var1 + \" * \" + var2 + \" = \" + str(int(var1) * int(var2)))\n",
    "\n",
    "# division\n",
    "print(\"Division: \" + var1 + \" / \" + var2 + \" = \" + str(int(var1) / int(var2)))\n",
    "#2. Then subtract the 2 numbers from each other.\n",
    "\n",
    "#3. Repeat steps 1 and 2 to carry out the calculations for multiplication and division."
   ]
  },
  {
   "cell_type": "markdown",
   "metadata": {},
   "source": [
    "Task 3: Joke\n",
    "\n",
    "Write code that will display the joke “What do you call a bear with no teeth?” \n",
    "and on the next line display the answer “A gummy bear!”\n",
    "\n",
    "1. Create a variable name to store the joke against.\n",
    "2. Use \\n to separate the code into the joke and the punch line."
   ]
  },
  {
   "cell_type": "code",
   "execution_count": 4,
   "metadata": {},
   "outputs": [
    {
     "name": "stdout",
     "output_type": "stream",
     "text": [
      "What do you call a bear with no teeth? \n",
      "A gummy bear!\n"
     ]
    }
   ],
   "source": [
    "joke = \"What do you call a bear with no teeth? \\nA gummy bear!\"\n",
    "print(joke)"
   ]
  },
  {
   "cell_type": "markdown",
   "metadata": {},
   "source": [
    "Task 4: Casting\n",
    "\n",
    "Create a program that:\n",
    "Asks the user for two numbers\n",
    "Multiples the numbers together\n",
    "Prints the answer as both an integer and a float"
   ]
  },
  {
   "cell_type": "code",
   "execution_count": 5,
   "metadata": {},
   "outputs": [
    {
     "name": "stdout",
     "output_type": "stream",
     "text": [
      "1280\n",
      "1280.0\n",
      "integer: 256 * 5 = 1280\n",
      "float: 256 * 5 = 1280.0\n"
     ]
    }
   ],
   "source": [
    "# 1. Create 2 variables which put the user to input a number.\n",
    "num1 = int(input(\"Input a number 1 \"))\n",
    "num2 = int(input(\"Input a number 2 \"))\n",
    "\n",
    "# 2. Multiple these numbers together and print the answer.\n",
    "print(num1*num2)\n",
    "\n",
    "# 3. Using int() and float() print the answer as an integer and float\n",
    "print((float(num1*num2)))\n",
    "\n",
    "print(\"integer:\", num1, \"*\", num2, \"=\", int(num1*num2))\n",
    "print(\"float:\", num1, \"*\", num2, \"=\", float(num1*num2))"
   ]
  },
  {
   "cell_type": "markdown",
   "metadata": {},
   "source": [
    "Task 5: String modification\n",
    "\n",
    "Modify a string which you have created to do the following built-in methods:\n",
    "- Replace\n",
    "- Upper case\n",
    "- Split"
   ]
  },
  {
   "cell_type": "code",
   "execution_count": 6,
   "metadata": {},
   "outputs": [
    {
     "name": "stdout",
     "output_type": "stream",
     "text": [
      "My first python homework :)\n",
      "My first Python homework :)\n",
      "MY FIRST PYTHON HOMEWORK :)\n",
      "['My', 'first', 'python', 'homework', ':)']\n"
     ]
    }
   ],
   "source": [
    "# 1. Create a string and store it against a variable name\n",
    "name = \"My first python homework :)\"\n",
    "print(name)\n",
    "\n",
    "# 2. Use replace(), upper() and split to modify your string\n",
    "print(name.replace(\"p\", \"P\"))\n",
    "print(name.upper())\n",
    "print(name.split(\" \"))"
   ]
  },
  {
   "cell_type": "markdown",
   "metadata": {},
   "source": [
    "Task 6: Stretch and Challenge\n",
    "\n",
    "Task_01\n",
    "Ask for the total price of a bill, then ask how many dinners there are. \n",
    "Divide the total bill by the number of diners and show how much each person should pay."
   ]
  },
  {
   "cell_type": "code",
   "execution_count": 7,
   "metadata": {},
   "outputs": [
    {
     "name": "stdout",
     "output_type": "stream",
     "text": [
      "Total bill: £55\n",
      "Quantity of dinners: 6\n",
      "Each person should pay: £9.17\n"
     ]
    }
   ],
   "source": [
    "# print bill_total with 2 decimal places:\n",
    "# bill_total = \"{:.2f}\".format(float(input(\"What is the total price of a bill? \")))\n",
    "\n",
    "bill_total = input(\"What a total price of a bill? \")\n",
    "dinners = input(\"How many dinners are there? \")\n",
    "print(\"Total bill: £\" + bill_total)\n",
    "print(\"Quantity of dinners: \" + dinners)\n",
    "each = round((float(bill_total) / int(dinners)),2)\n",
    "print(\"Each person should pay: £\" + str(each))"
   ]
  },
  {
   "cell_type": "markdown",
   "metadata": {},
   "source": [
    "Task_02\n",
    "Ask for the radius and the depth of a cylinder and work out the total volume (circle area*depth) rounded to three decimal places. "
   ]
  },
  {
   "cell_type": "code",
   "execution_count": 8,
   "metadata": {},
   "outputs": [
    {
     "name": "stdout",
     "output_type": "stream",
     "text": [
      "785.398\n",
      "Cylinder radius: 5 cm \n",
      "Cylinder depth: 10 cm \n",
      "Total volume of the cylinder: 785.398 cm\n"
     ]
    }
   ],
   "source": [
    "# import the math library \n",
    "import math\n",
    "\n",
    "radius = input(\"What a radius of the cylinder? \")\n",
    "depth = input(\"What a depth of the cylinder? \")\n",
    "total_volume = (math.pi * (float(radius))**2) * float(depth)\n",
    "# rounding to 3 decimal places\n",
    "print(round(total_volume,3))\n",
    "\n",
    "print(\"Cylinder radius: \" + radius + \" cm \\nCylinder depth: \" + depth + \" cm \\nTotal volume of the cylinder: \" + str(round(total_volume,3)) + \" cm\")"
   ]
  }
 ],
 "metadata": {
  "kernelspec": {
   "display_name": "Python 3.10.6 64-bit (windows store)",
   "language": "python",
   "name": "python3"
  },
  "language_info": {
   "codemirror_mode": {
    "name": "ipython",
    "version": 3
   },
   "file_extension": ".py",
   "mimetype": "text/x-python",
   "name": "python",
   "nbconvert_exporter": "python",
   "pygments_lexer": "ipython3",
   "version": "3.10.8"
  },
  "orig_nbformat": 4,
  "vscode": {
   "interpreter": {
    "hash": "5b4fc6ec2495f427295cea5b6bf7d72ffd90b0957ebf2d94c60f2f83cf55043b"
   }
  }
 },
 "nbformat": 4,
 "nbformat_minor": 2
}
